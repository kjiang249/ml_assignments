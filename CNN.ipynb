{
 "cells": [
  {
   "cell_type": "markdown",
   "metadata": {
    "id": "-yQ2Av1NIWTn"
   },
   "source": [
    "# CS 480/680 assignment 2\n",
    "\n",
    "Tips:\n",
    "- Please save a copy of this notebook to avoid losing your changes.\n",
    "- Debug your code and ensure that it can run.\n",
    "- Save the output of each cell. Failure to do so may result in your coding questions not being graded.\n",
    "- To accelerate the training time, you can choose 'Runtime' -> 'Change runtime type' -> 'Hardware accelerator' and set 'Hardware accelerator' to 'GPU'. I tested the code on different devices: A100, T4, and M1 CPU; the execution times for training are approximately 14 minutes, 15 minutes, and 41 minutes, respectively.\n",
    "- Your grade is independent of the test accuracy (unless it is 10%, as 10% is the accuracy of random guess).\n",
    "\n",
    "Tips for sumbission:\n",
    "- Do not change the order of the problems.\n",
    "- Select 'Runtime' -> 'Run all' to run all cells and generate a final \"gradable\" version of your notebook and save your ipynb file.\n",
    "- Also use 'File' -> 'Print' and then print your report from your browser into a PDF file."
   ]
  },
  {
   "cell_type": "code",
   "execution_count": 1,
   "metadata": {
    "id": "bIfyXOkcM4-2"
   },
   "outputs": [
    {
     "name": "stdout",
     "output_type": "stream",
     "text": [
      "2.1.0\n",
      "0.16.0\n"
     ]
    }
   ],
   "source": [
    "import numpy as np\n",
    "import matplotlib.pyplot as plt\n",
    "import torch\n",
    "import torch.nn as nn\n",
    "import torch.nn.functional as F\n",
    "import torchvision\n",
    "from torchvision import datasets\n",
    "import torchvision.transforms as transforms\n",
    "from torch.optim import Optimizer\n",
    "from torch.utils.data import DataLoader, random_split\n",
    "from tqdm import tqdm\n",
    "from typing import Tuple\n",
    "\n",
    "print(torch.__version__)\n",
    "print(torchvision.__version__)"
   ]
  },
  {
   "cell_type": "markdown",
   "metadata": {
    "id": "JetnIX7XJTKW"
   },
   "source": [
    "## Helper functions\n",
    "\n",
    "You can use the following functions to verify the correctness of your implementation. For example, you can call ```verify_conv2d()``` to check the effectiveness of your ```Conv2d``` implementation."
   ]
  },
  {
   "cell_type": "code",
   "execution_count": 2,
   "metadata": {
    "id": "eZyJtXZtIp6N"
   },
   "outputs": [],
   "source": [
    "def verify_conv2d():\n",
    "    x = torch.randn(1, 3, 32, 32)\n",
    "    in_channels = 3\n",
    "    out_channels = 16\n",
    "    kernel_size = 3\n",
    "    stride = 1\n",
    "    padding = 1\n",
    "\n",
    "\n",
    "    conv_pytorch = nn.Conv2d(in_channels, out_channels, kernel_size, stride, padding)\n",
    "    output_pytorch = conv_pytorch(x)\n",
    "\n",
    "    conv_custom = Conv2d(in_channels, out_channels, kernel_size, stride, padding)\n",
    "    conv_custom.weight.data = conv_pytorch.weight.data.clone()\n",
    "    conv_custom.bias.data = conv_pytorch.bias.data.clone()\n",
    "    output_custom = conv_custom(x)\n",
    "    difference = (output_pytorch - output_custom).abs().max()\n",
    "    return (difference < 1e-06).item()"
   ]
  },
  {
   "cell_type": "code",
   "execution_count": 3,
   "metadata": {
    "id": "IhOzASnGIy_d"
   },
   "outputs": [],
   "source": [
    "@torch.no_grad\n",
    "def verify_dropout():\n",
    "    p = 0.8\n",
    "    n = int(1e5)\n",
    "    x = torch.randn(5,)\n",
    "    weight = torch.randn(5,)\n",
    "\n",
    "    y = torch.dot(x, weight)\n",
    "    print('x dot product weight', y)\n",
    "\n",
    "    dropout_pytorch = nn.Dropout(p)\n",
    "    dropout_custom = Dropout(p)\n",
    "\n",
    "    dropout_pytorch.eval()\n",
    "    dropout_custom.eval()\n",
    "\n",
    "    output_pytorch = torch.dot(weight, dropout_pytorch(x))\n",
    "    output_custom = torch.dot(weight, dropout_custom(x))\n",
    "    assert torch.allclose(output_pytorch, output_custom), \"The outputs are not the same in evaluation mode.\"\n",
    "\n",
    "    dropout_pytorch.train()\n",
    "    dropout_custom.train()\n",
    "\n",
    "    pytorch_dropout_train = torch.zeros_like(output_pytorch)\n",
    "    custom_dropout_train = torch.zeros_like(output_custom)\n",
    "\n",
    "    for _ in range(n):\n",
    "        x_hat = dropout_pytorch(x)\n",
    "        pytorch_dropout_train += torch.dot(x_hat, weight)\n",
    "        x_hat = dropout_custom(x)\n",
    "        custom_dropout_train += torch.dot(x_hat, weight)\n",
    "\n",
    "    pytorch_dropout_train /= n\n",
    "    custom_dropout_train /= n\n",
    "\n",
    "    print('Empirical mean of Pytorch Dropout result', pytorch_dropout_train)\n",
    "    print('Empirical mean of Custom Dropout result', custom_dropout_train)"
   ]
  },
  {
   "cell_type": "code",
   "execution_count": 4,
   "metadata": {
    "id": "olB9uVEdJA8r"
   },
   "outputs": [],
   "source": [
    "@torch.no_grad\n",
    "def verify_batchnorm():\n",
    "    x = torch.randn(2, 3, 4, 4)\n",
    "\n",
    "    num_features = x.shape[1]\n",
    "\n",
    "    custom_bn = BatchNorm2d(num_features, eps=1e-5, momentum=0.1)\n",
    "    pytorch_bn = nn.BatchNorm2d(num_features, eps=1e-5, momentum=0.1)\n",
    "\n",
    "    pytorch_bn.weight.data = custom_bn.weight.data.clone()\n",
    "    pytorch_bn.bias.data = custom_bn.bias.data.clone()\n",
    "    pytorch_bn.running_mean = custom_bn.running_mean.clone()\n",
    "    pytorch_bn.running_var = custom_bn.running_var.clone()\n",
    "\n",
    "    custom_bn.train()\n",
    "    pytorch_bn.train()\n",
    "\n",
    "    output_custom = custom_bn(x)\n",
    "    output_pytorch = pytorch_bn(x)\n",
    "\n",
    "    difference = (output_custom - output_pytorch).abs().max()\n",
    "    return (difference < 1e-06).item()"
   ]
  },
  {
   "cell_type": "code",
   "execution_count": 5,
   "metadata": {
    "id": "WZajlqkLJcC0"
   },
   "outputs": [],
   "source": [
    "@torch.no_grad\n",
    "def eval_accuracy(model, eval_loader, device):\n",
    "    model.eval()\n",
    "    n_correct = 0\n",
    "    n_total = 0\n",
    "    for imgs, labels in eval_loader:\n",
    "        imgs, labels = imgs.to(device), labels.to(device)\n",
    "        logits = model(imgs)\n",
    "        _, pred = torch.max(logits, 1)\n",
    "\n",
    "        n_correct += (pred == labels).sum().item()\n",
    "        n_total += len(labels)\n",
    "\n",
    "    return n_correct / n_total"
   ]
  },
  {
   "cell_type": "code",
   "execution_count": 6,
   "metadata": {
    "id": "gZ8GOvVyLTN9"
   },
   "outputs": [],
   "source": [
    "def plot_curves(train_error_rates, val_error_rates):\n",
    "    plt.figure(figsize=(10, 6))\n",
    "    epochs = range(1, len(train_error_rates) + 1)\n",
    "    plt.plot(epochs, train_error_rates, 'bo-', label='Training Error')\n",
    "    plt.plot(epochs, val_error_rates, 'ro-', label='Validation Error')\n",
    "    plt.title('Training and Validation Error Rates')\n",
    "    plt.xlabel('Epochs')\n",
    "    plt.ylabel('Error Rate')\n",
    "    plt.legend()\n",
    "    plt.grid(True)\n",
    "    plt.show()"
   ]
  },
  {
   "cell_type": "code",
   "execution_count": 7,
   "metadata": {
    "id": "WOUxM8HCLoNI"
   },
   "outputs": [],
   "source": [
    "def imshow(img):\n",
    "    img = img / 2 + 0.5\n",
    "    npimg = img.numpy()\n",
    "    plt.imshow(np.transpose(npimg, (1, 2, 0)))\n",
    "\n",
    "classes = ['airplane', 'automobile', 'bird', 'cat', 'deer',\n",
    "           'dog', 'frog', 'horse', 'ship', 'truck']\n",
    "\n",
    "def show_batch(data_loader):\n",
    "    dataiter = iter(train_loader)\n",
    "    images, labels = next(dataiter)\n",
    "    # print(\"Size of the first image:\", images[0].size())\n",
    "    fig = plt.figure(figsize=(25, 4))\n",
    "    for idx in range(20):\n",
    "        ax = fig.add_subplot(2, 10, idx+1, xticks=[], yticks=[])\n",
    "        imshow(images[idx])\n",
    "        ax.set_title(classes[labels[idx]])"
   ]
  },
  {
   "cell_type": "markdown",
   "metadata": {
    "id": "Pjm7j2siKyh9"
   },
   "source": [
    "# Question 1. Loading dataset (5 points)\n",
    "In this question, you are asked to fill out the ```build_loaders```, in other words, to prepare the training, validation, and test sets. In the following code, you need to randomly split ```train_data``` into training and validation sets. We use 80% of ```train_data``` as the training set and the rest of ```train_data``` as the validation set. Please use DataLoader in PyTorch to create three different dataloaders: one each for training, validation, and testing."
   ]
  },
  {
   "cell_type": "code",
   "execution_count": 8,
   "metadata": {
    "colab": {
     "base_uri": "https://localhost:8080/"
    },
    "id": "zaxPAE4wJQkK",
    "outputId": "92f108f8-2200-48a9-85be-39f987dee873"
   },
   "outputs": [
    {
     "name": "stdout",
     "output_type": "stream",
     "text": [
      "Using device: mps\n"
     ]
    },
    {
     "data": {
      "text/plain": [
       "<torch._C.Generator at 0x120124cb0>"
      ]
     },
     "execution_count": 8,
     "metadata": {},
     "output_type": "execute_result"
    }
   ],
   "source": [
    "# device = torch.device(\"cuda\" if torch.cuda.is_available() else \"cpu\")\n",
    "device = torch.device(\"mps\" if torch.backends.mps.is_available() else (\"cuda\" if torch.cuda.is_available() else \"cpu\"))\n",
    "\n",
    "print(f\"Using device: {device}\")\n",
    "torch.manual_seed(2024)"
   ]
  },
  {
   "cell_type": "code",
   "execution_count": 9,
   "metadata": {
    "colab": {
     "base_uri": "https://localhost:8080/"
    },
    "id": "Avh2Gc1AJM8H",
    "outputId": "fca0a23e-c65c-4435-88d7-37164f045029"
   },
   "outputs": [
    {
     "name": "stdout",
     "output_type": "stream",
     "text": [
      "Files already downloaded and verified\n",
      "Files already downloaded and verified\n"
     ]
    }
   ],
   "source": [
    "batch_size = 128\n",
    "\n",
    "normalize = transforms.Normalize(mean=[0.485, 0.456, 0.406],\n",
    "                                 std=[0.229, 0.224, 0.225])\n",
    "\n",
    "transform = transforms.Compose([\n",
    "    transforms.RandomHorizontalFlip(),\n",
    "    transforms.RandomCrop(32, 4),\n",
    "    transforms.ToTensor(),\n",
    "    normalize,\n",
    "])\n",
    "\n",
    "\n",
    "train_data = datasets.CIFAR10('data', train=True,\n",
    "                              download=True, transform=transform)\n",
    "test_data = datasets.CIFAR10('data', train=False,\n",
    "                             download=True, transform=transform)"
   ]
  },
  {
   "cell_type": "code",
   "execution_count": 10,
   "metadata": {
    "id": "dx555ITFyMnG"
   },
   "outputs": [],
   "source": [
    "def build_loaders(train_data: torch.utils.data.Dataset,\n",
    "                  test_data: torch.utils.data.Dataset,\n",
    "                  train_ratio: float=0.8,\n",
    "                  val_ratio: float=0.2,\n",
    "                  batch_size:int=batch_size) -> Tuple[DataLoader, DataLoader, DataLoader]:\n",
    "    \"\"\"\n",
    "    Args:\n",
    "    - train_data: CIFAR-10 train data\n",
    "    - test_data: CIFAR-10 test data\n",
    "    - train_ratio: ratio of training\n",
    "    - val_ratio: ratio of validation\n",
    "    - batch_size: Batch size\n",
    "    Returns:\n",
    "    - train_loader: Dataloader for training\n",
    "    - val_loader: Dataloader for validation\n",
    "    - test_loader: Dataloader for test\n",
    "    \"\"\"\n",
    "    # TODO: Random split CIFAR-10 train-validation sets\n",
    "    # TODO: Return train/val/test loaders\n",
    "    train_size = int(len(train_data) * train_ratio)\n",
    "    val_size = len(train_data) - train_size\n",
    "    train_dataset, val_dataset = random_split(train_data, [train_size, val_size])\n",
    "\n",
    "    train_loader = DataLoader(train_dataset, batch_size=batch_size, shuffle=True)\n",
    "    val_loader = DataLoader(val_dataset, batch_size=batch_size, shuffle=False)\n",
    "    test_loader = DataLoader(test_data, batch_size=batch_size, shuffle=False)\n",
    "\n",
    "    return train_loader, val_loader, test_loader\n"
   ]
  },
  {
   "cell_type": "code",
   "execution_count": 11,
   "metadata": {
    "id": "44coe7-Czl36"
   },
   "outputs": [],
   "source": [
    "train_loader, val_loader, test_loader = build_loaders(train_data, test_data)"
   ]
  },
  {
   "cell_type": "markdown",
   "metadata": {
    "id": "rf4360OAMnts"
   },
   "source": [
    "### Visualize a Batch of Training Data"
   ]
  },
  {
   "cell_type": "code",
   "execution_count": 12,
   "metadata": {
    "colab": {
     "base_uri": "https://localhost:8080/",
     "height": 716
    },
    "id": "47UhuMrGMnOZ",
    "outputId": "d7f68fe6-a705-4b5f-d814-093c1b3b33ac"
   },
   "outputs": [
    {
     "name": "stderr",
     "output_type": "stream",
     "text": [
      "Clipping input data to the valid range for imshow with RGB data ([0..1] for floats or [0..255] for integers).\n",
      "Clipping input data to the valid range for imshow with RGB data ([0..1] for floats or [0..255] for integers).\n",
      "Clipping input data to the valid range for imshow with RGB data ([0..1] for floats or [0..255] for integers).\n",
      "Clipping input data to the valid range for imshow with RGB data ([0..1] for floats or [0..255] for integers).\n",
      "Clipping input data to the valid range for imshow with RGB data ([0..1] for floats or [0..255] for integers).\n",
      "Clipping input data to the valid range for imshow with RGB data ([0..1] for floats or [0..255] for integers).\n",
      "Clipping input data to the valid range for imshow with RGB data ([0..1] for floats or [0..255] for integers).\n",
      "Clipping input data to the valid range for imshow with RGB data ([0..1] for floats or [0..255] for integers).\n",
      "Clipping input data to the valid range for imshow with RGB data ([0..1] for floats or [0..255] for integers).\n",
      "Clipping input data to the valid range for imshow with RGB data ([0..1] for floats or [0..255] for integers).\n",
      "Clipping input data to the valid range for imshow with RGB data ([0..1] for floats or [0..255] for integers).\n",
      "Clipping input data to the valid range for imshow with RGB data ([0..1] for floats or [0..255] for integers).\n",
      "Clipping input data to the valid range for imshow with RGB data ([0..1] for floats or [0..255] for integers).\n",
      "Clipping input data to the valid range for imshow with RGB data ([0..1] for floats or [0..255] for integers).\n",
      "Clipping input data to the valid range for imshow with RGB data ([0..1] for floats or [0..255] for integers).\n",
      "Clipping input data to the valid range for imshow with RGB data ([0..1] for floats or [0..255] for integers).\n",
      "Clipping input data to the valid range for imshow with RGB data ([0..1] for floats or [0..255] for integers).\n",
      "Clipping input data to the valid range for imshow with RGB data ([0..1] for floats or [0..255] for integers).\n",
      "Clipping input data to the valid range for imshow with RGB data ([0..1] for floats or [0..255] for integers).\n",
      "Clipping input data to the valid range for imshow with RGB data ([0..1] for floats or [0..255] for integers).\n"
     ]
    },
    {
     "data": {
      "image/png": "[encoded data removed]",
      "text/plain": [
       "<Figure size 2500x400 with 20 Axes>"
      ]
     },
     "metadata": {},
     "output_type": "display_data"
    }
   ],
   "source": [
    "show_batch(train_loader)"
   ]
  },
  {
   "cell_type": "markdown",
   "metadata": {
    "id": "-jJQY-YXNCw4"
   },
   "source": [
    "# Question 2. Implementing Conv2d (20 points)\n",
    "In this question, you are asked to implement a multi-channel convolution operator for 2D images, a.k.a., a 2D cross-correlation operator. If you directly use PyTorch's built-in conv2d class (e.g., ```torch.nn.Conv2d``` or ```torch.nn.functional.conv2d```), you will only receive one mark for this question. But, you're welcome to use Pytorch's built-in ```pad``` function. You can use ```verify_conv2d()``` to compare your Conv2d operator with PyTorch's built-in conv2d operator. Please fill out the ```forward``` function in ```Conv2d```."
   ]
  },
  {
   "cell_type": "code",
   "execution_count": 13,
   "metadata": {
    "id": "DnfpDVNmLPxn"
   },
   "outputs": [],
   "source": [
    "class Conv2d(nn.Module):\n",
    "    def __init__(self, in_channels, out_channels, kernel_size, stride=1, padding=0):\n",
    "        super(Conv2d, self).__init__()\n",
    "\n",
    "        assert in_channels > 0 and out_channels > 0 and kernel_size > 0\n",
    "        self.kernel_size = kernel_size\n",
    "        self.stride = stride\n",
    "        self.padding = padding\n",
    "        self.weight = nn.Parameter(torch.randn(out_channels, in_channels, kernel_size, kernel_size))\n",
    "        self.bias = nn.Parameter(torch.randn(out_channels))\n",
    "\n",
    "    def forward(self, x):\n",
    "        \"\"\"\n",
    "        Args:\n",
    "        - x: input tensor\n",
    "        Returns:\n",
    "        - output: convoluted tensor\n",
    "        \"\"\"\n",
    "        # TODO: 2D cross-correlation operator\n",
    "        out_channels, in_channels, _, _ = self.weight.shape\n",
    "\n",
    "        x_padded = F.pad(x, [self.padding, self.padding, self.padding, self.padding], mode='constant', value=0) #assume x shape [batch_size, channels, height, width]\n",
    "\n",
    "        height, width = x_padded.shape[2], x_padded.shape[3]\n",
    "\n",
    "        out_height = (height - self.kernel_size) // self.stride + 1\n",
    "        out_width = (width - self.kernel_size) // self.stride + 1\n",
    "\n",
    "        # Initialize the output tensor\n",
    "        output = torch.zeros((x.shape[0], out_channels, out_height, out_width), device=x.device)\n",
    "\n",
    "        # Perform the convolution operation\n",
    "        for i in range(out_height):\n",
    "            for j in range(out_width):\n",
    "                h_start, w_start = i * self.stride, j * self.stride\n",
    "                h_end, w_end = h_start + self.kernel_size, w_start + self.kernel_size\n",
    "                x_slice = x_padded[:, :, h_start:h_end, w_start:w_end]\n",
    "                for k in range(out_channels):\n",
    "                    output[:, k, i, j] = torch.sum(x_slice * self.weight[k, :, :, :], dim=(1, 2, 3))+ self.bias[k]\n",
    "\n",
    "        return output\n"
   ]
  },
  {
   "cell_type": "code",
   "execution_count": 14,
   "metadata": {
    "colab": {
     "base_uri": "https://localhost:8080/"
    },
    "id": "cZOvdm6u5shj",
    "outputId": "c461387c-20f3-43df-c07e-efc35a320e32"
   },
   "outputs": [
    {
     "name": "stdout",
     "output_type": "stream",
     "text": [
      "Passed conv2d test: True\n"
     ]
    }
   ],
   "source": [
    "conv2d_passed = verify_conv2d()\n",
    "print('Passed conv2d test:', conv2d_passed)"
   ]
  },
  {
   "cell_type": "markdown",
   "metadata": {
    "id": "RBf8-fxcO99Z"
   },
   "source": [
    "# Question 3. Dropout (20 points)\n",
    "In this question, you are asked to implement a dropout layer. If you directly use PyTorch's built-in dropout class (e.g., ```torch.nn.Dropout``` or ```torch.nn.functional.dropout```), you will only receive one mark for this question."
   ]
  },
  {
   "cell_type": "markdown",
   "metadata": {
    "id": "kLvDfMovP0R7"
   },
   "source": [
    "## Question 3.1 Should We Rescale Our Dropout Output? (10 points)\n",
    "Consider a simple scenario where there is an input vector $\\mathbf{x}$ and a linear layer with weights $\\mathbf{w}$ and zero bias. Before this linear layer, we add a dropout layer with dropout probability $p$. Should we rescale the output of the dropout layer? Please state your choice and explain your reasoning. If you choose to rescale the dropout output, what should the rescale factor be? (Tip: What is the ***unbiased*** estimator for the output during the training time?)"
   ]
  },
  {
   "cell_type": "markdown",
   "metadata": {
    "id": "NnNc3XndRa8t"
   },
   "source": [
    "### Your answer for question 3.1:\n",
    "\n",
    "Assume the probability p is the probability to drop weight. This means randomly zero some of the elements of the input tensor with probability p during training. We also know that no weight is dropped during testing. \n",
    "To keep the expectation of dropout(x) = x the same between training and testing, we need to have p * 0 + (1 - p) * x / (1 - p) = x. Therefore, the output should be rescaled with factor of 1 / (1 - p)."
   ]
  },
  {
   "cell_type": "markdown",
   "metadata": {
    "id": "YWjsXknhe0Q9"
   },
   "source": [
    "## Question 3.2 Implement your Dropout Layer (10 points)\n",
    "Based on the above question, you should implement your own scaled/unscaled dropout layer. You can use ```verify_dropout()``` to compare your dropout layer with PyTorch's built-in dropout layer. Please fill out the ```forward``` function in ```Dropout```."
   ]
  },
  {
   "cell_type": "code",
   "execution_count": 15,
   "metadata": {
    "id": "dcGR65Q8lX90"
   },
   "outputs": [],
   "source": [
    "class Dropout(nn.Module):\n",
    "    def __init__(self, p):\n",
    "        super(Dropout, self).__init__()\n",
    "        \"\"\"\n",
    "        Args:\n",
    "        - p: dropout rate\n",
    "        \"\"\"\n",
    "        assert p >= 0 and p <= 1\n",
    "        self.p = p\n",
    "\n",
    "    def forward(self, x):\n",
    "        \"\"\"\n",
    "        Args:\n",
    "        - x: input tensor\n",
    "        Returns:\n",
    "        - output: dropout tensor\n",
    "        \"\"\"\n",
    "        # TODO: Dropout layer\n",
    "        if not self.training:\n",
    "            # If the model is in evaluation mode, return x directly without dropout\n",
    "            return x\n",
    "        else:\n",
    "            # During training, create a dropout mask and apply it\n",
    "            # The mask should have the same device and dtype as x\n",
    "            mask = (torch.rand(x.shape, device=x.device, dtype=x.dtype) > self.p)\n",
    "            # Apply the mask to the input tensor and scale the activations\n",
    "            # Scaling ensures that the expected sum of the activations remains constant\n",
    "            # The scaling factor is 1/(1-p) during training\n",
    "            return mask * x / (1 - self.p)"
   ]
  },
  {
   "cell_type": "code",
   "execution_count": 16,
   "metadata": {
    "colab": {
     "base_uri": "https://localhost:8080/"
    },
    "id": "6crMyRFtKjQm",
    "outputId": "6e9e40c2-f191-4d71-e80c-f4c4a4248119"
   },
   "outputs": [
    {
     "name": "stdout",
     "output_type": "stream",
     "text": [
      "x dot product weight tensor(-1.7168)\n",
      "Empirical mean of Pytorch Dropout result tensor(-1.7159)\n",
      "Empirical mean of Custom Dropout result tensor(-1.7205)\n"
     ]
    }
   ],
   "source": [
    "verify_dropout()"
   ]
  },
  {
   "cell_type": "markdown",
   "metadata": {
    "id": "_kNvxwFYXx1q"
   },
   "source": [
    "# Question 4. Implementing BatchNorm2d (15 points)\n",
    "In this question, you are asked to implement BatchNorm2d for the training stage. If you directly use PyTorch's built-in batch normalization 2d class (e.g., ```torch.nn.BatchNorm2d``` or ```torch.nn.functional.batch_norm```), you will only receive one mark for this question. You can use ```verify_batchnorm()``` to compare your BatchNorm2d with PyTorch's built-in BatchNorm2d. Please fill out the ```forward``` function in ```BatchNoram2d``` for training."
   ]
  },
  {
   "cell_type": "markdown",
   "metadata": {
    "id": "01dvDi3dbe4f"
   },
   "source": [
    "### Tips:\n",
    "During training. Given a batch $\\mathcal{B} = \\{\\mathbf{x}^{(1)}, \\dots, \\mathbf{x}^{(m)}\\}$ with size $m$. We use $\\mathbf{x}^{(i)}$ to represent $j$-th channel in $i$-th sample. For each channel $j$, we need to compute\n",
    "$\\boldsymbol{\\mu}_{j} = \\frac{1}{m}\\sum_{i=1}^{m} \\mathbf{x}^{(i)}_j$ and\n",
    "$\\boldsymbol{\\sigma}_{j}^2 = \\frac{1}{m}\\sum_{i=1}^m (\\mathbf{x}^{(i)}_j - \\boldsymbol{\\mu}_j)^2.$ Then, there are learnable parameters $\\gamma$ and $\\beta$. $$BN(\\mathbf{x}^{(i)}_j) = \\gamma \\frac{\\mathbf{x}^{(i)}_j - \\boldsymbol{\\mu}_j}{\\sqrt{\\boldsymbol{\\sigma}^2_j + \\epsilon}} + \\beta,$$\n",
    "where $\\epsilon$ is a hyperparameter for numerical stability. Again, the above equation is for each channel. If there are three channels, then there are three different $\\gamma$s and $\\beta$s for each channel.\n"
   ]
  },
  {
   "cell_type": "code",
   "execution_count": 17,
   "metadata": {
    "id": "HoYJUj2BX1Y9"
   },
   "outputs": [],
   "source": [
    "class BatchNorm2d(nn.Module):\n",
    "    def __init__(self, num_features, eps=1e-5, momentum=0.1):\n",
    "        super(BatchNorm2d, self).__init__()\n",
    "        self.num_features = num_features\n",
    "        self.eps = eps\n",
    "        self.momentum = momentum\n",
    "\n",
    "        self.weight = nn.Parameter(torch.ones(num_features))\n",
    "        self.bias = nn.Parameter(torch.zeros(num_features))\n",
    "\n",
    "        self.register_buffer('running_mean', torch.zeros(num_features))\n",
    "        self.register_buffer('running_var', torch.ones(num_features))\n",
    "\n",
    "        self.reset_parameters()\n",
    "\n",
    "    def reset_parameters(self):\n",
    "        self.running_mean.zero_()\n",
    "        self.running_var.fill_(1)\n",
    "        nn.init.uniform_(self.weight)\n",
    "        nn.init.zeros_(self.bias)\n",
    "\n",
    "    def forward(self, x):\n",
    "        if self.training:\n",
    "            # TODO: BatchNorm2d in training.\n",
    "            batch_mean = x.mean([0, 2, 3], keepdim=True)\n",
    "            batch_var = x.var([0, 2, 3], keepdim=True, unbiased=False)\n",
    "\n",
    "            x_normalized = (x - batch_mean) / torch.sqrt(batch_var + self.eps)\n",
    "\n",
    "            # Update running statistics without in-place operations\n",
    "            self.running_mean = (1 - self.momentum) * self.running_mean.detach() + self.momentum * batch_mean.detach().squeeze()\n",
    "            self.running_var = (1 - self.momentum) * self.running_var.detach() + self.momentum * x.var([0, 2, 3], keepdim=True, unbiased=True).detach().squeeze()\n",
    "            # Thanks for correction in Piazza.\n",
    "\n",
    "        else:\n",
    "            x = (x - self.running_mean.view(1, self.num_features, 1, 1)) / \\\n",
    "                (self.running_var.view(1, self.num_features, 1, 1) + self.eps).sqrt()\n",
    "            x_normalized = x\n",
    "\n",
    "\n",
    "        # x = x * self.weight.view(1, self.num_features, 1, 1) + self.bias.view(1, self.num_features, 1, 1)\n",
    "        x_normalized = x_normalized * self.weight.view(1, self.num_features, 1, 1) + self.bias.view(1, self.num_features, 1, 1)\n",
    "        return x_normalized\n"
   ]
  },
  {
   "cell_type": "code",
   "execution_count": 18,
   "metadata": {
    "colab": {
     "base_uri": "https://localhost:8080/"
    },
    "id": "bQWY0KPgZeTp",
    "outputId": "b50942ae-c516-44c2-a11b-c124ce2837ee"
   },
   "outputs": [
    {
     "name": "stdout",
     "output_type": "stream",
     "text": [
      "Customize BatchNormalization 2d passed:  True\n"
     ]
    }
   ],
   "source": [
    "passed = verify_batchnorm()\n",
    "print('Customize BatchNormalization 2d passed: ', passed)"
   ]
  },
  {
   "cell_type": "markdown",
   "metadata": {
    "id": "b_4n1LUPmMtP"
   },
   "source": [
    "# Question 5. Loss function and SGD (15 points)\n",
    "In this question, you are asked to implement cross-entropy loss and SGD. If you directly use PyTorch build-in functions, e.g., ```torch.nn.functional.cross_entropy``` or ```torch.nn.CrossEntropyLoss``` or ```torch.optim.SGD```, you will only receive one mark for this question. But, you're welcom to use ```torch.nn.functional.softmax``` or ```torch.logsumexp```"
   ]
  },
  {
   "cell_type": "markdown",
   "metadata": {
    "id": "7Yejqtx36E8V"
   },
   "source": [
    "## Question 5.1. Computing graident of Cross-Entropy Loss. (5 points)\n",
    "\n",
    "Let $C$ be the number of classes. We define the cross-entropy loss as $L(\\hat{y}, k) = -\\sum_{i=1}^C y_i \\log \\hat{y}_i$, where $\\hat{y}$ is the output probability, $k$ is the true label, and $y = \\text{OneHot}(k)$. In practice, $\\hat{y} = \\text{softmax}(\\mathbf{W}f(\\mathbf{x}) + \\mathbf{b})$, where $\\mathbf{W} \\in \\mathbb{R}^{C \\times d}$, $\\mathbf{b} \\in \\mathbb{R}^C$, and $f(\\mathbf{x}) \\in \\mathbb{R}^d$. In this question, you are asked to compute the partial derivatives: $\\frac{\\partial L}{\\partial \\mathbf{W}{ij}}$ and $\\frac{\\partial L}{\\partial \\mathbf{b}_i}$."
   ]
  },
  {
   "cell_type": "markdown",
   "metadata": {
    "id": "sbeZTL34_KHo"
   },
   "source": [
    "#### Your Answer for Question 5.1:\n",
    "Given:\n",
    "- Cross-Entropy Loss: $L(\\hat{y}, k) = -\\sum_{i=1}^{C} y_i \\log(\\hat{y}_i)$\n",
    "- Output probability: $\\hat{y} = \\text{softmax}(\\mathbf{W}f(x) + \\mathbf{b})$\n",
    "- True label $k$ with one-hot encoding $y = \\text{OneHot}(k)$\n",
    "- $\\mathbf{W} \\in \\mathbb{R}^{C \\times d}$, $\\mathbf{b} \\in \\mathbb{R}^{C}$, and $f(x) \\in \\mathbb{R}^{d}$\n",
    "\n",
    "Define logit $z_i$ for class $i$ where $z_i = \\mathbf{W}_i f(x) + b_i$.\n",
    "\n",
    "The softmax function for a class $i$ is defined as: $\\hat{y}_i = \\text{softmax}(z_i) = \\frac{e^{z_i}}{\\sum_{j=1}^{C} e^{z_j}}$. \n",
    "\n",
    "### Partial Derivatives:\n",
    "**Partial derivative of $L$ with respect to $\\mathbf{W}_{ij}$:**\n",
    "\n",
    "First, compute the gradient of the loss with respect to the logits $z_i$: $\\frac{\\partial L}{\\partial z_i}$\n",
    "\n",
    "\\begin{align*}\n",
    "L(\\hat{y}, k) &= -\\sum_{i=1}^C y_i \\log \\hat{y}_i    \\\\\n",
    "&= - \\sum_{i=1}^C y_i \\log \\frac{e^{z_i}}{\\sum_{j=1}^C e^{z_j}} \\\\\n",
    "&= - \\sum_{i=1}^C y_i (z_i - \\log(\\sum_{j=1}^C e^{z_j})) \\\\\n",
    "&= - \\sum_{i=1}^C y_i z_i + \\sum_{i=1}^C y_i \\log(\\sum_{j=1}^C e^{z_j}) \\\\\n",
    "&= - \\sum_{i=1}^C y_i z_i + \\log(\\sum_{j=1}^C e^{z_j}) \\\\\n",
    "\\frac{\\partial \\mathcal{L}(\\hat{y}, k)}{\\partial z_i} &= -y_i + \\frac{e^{z_i}}{\\sum_{j=1}^C e^{z_j}} \\\\\n",
    "&= \\text{softmax}(z_i) - y_i    \\\\\n",
    "&= \\hat{y}_i - y_i\n",
    "\\end{align*}\n",
    "\n",
    "<!-- \\begin{align*}\n",
    "L(\\hat{y}, k) &= -\\sum_{i=1}^C y_i \\log \\hat{y}_i    \\\\\n",
    "&= - \\sum_{i=1}^C y_i \\log \\frac{\\exp(z_i)}{\\sum_j \\exp(z_j)} \\\\\n",
    "&= - \\sum_{i=1}^C y_i (z_i - \\log(\\sum_j \\exp(z_j))) \\\\\n",
    "&= - \\sum_{i=1}^C y_i z_i + \\sum_i y_i \\log(\\sum_j \\exp(z_j)) \\\\\n",
    "&= - \\sum_{i=1}^C y_i z_i + \\log(\\sum_j \\exp(z_j)) \\\\\n",
    "\\frac{\\partial \\mathcal{L}(y, \\hat{y})}{\\partial o_i} &= -y_i + \\frac{\\exp(o_i)}{\\sum_j \\exp(o_j)} \\\\\n",
    "&= \\text{softmax}(o_i) - y_i\n",
    "\\end{align*} -->\n",
    "\n",
    "Given $z_i = \\mathbf{W}_i f(x) + b_i$, find derivative of $z_i$ with respect to $\\mathbf{W}_{ij}$.\n",
    "\n",
    "\\begin{align*}\n",
    "\\mathbf{W}_i f(x) &= \\sum_{j=1}^{d} \\mathbf{W}_{ij} f_j(x)   \\\\\n",
    "z_i &= \\sum_{j=1}^{d} \\mathbf{W}_{ij} f_j(x) + b_i\n",
    "\\end{align*}\n",
    "where $d$ is the dimensionality of $f(x)$, $\\mathbf{W}_{ij}$ is the element of $\\mathbf{W}$ at the $i$-th row and $j$-th column, and $f_j(x)$ is the $j$-th component of the feature vector $f(x)$.\n",
    "\n",
    "$$ \\frac{\\partial z_i}{\\partial \\mathbf{W}_{ij}} = f_j(x) $$\n",
    "\n",
    "\n",
    "Thus, by the chain rule, $\\frac{\\partial L}{\\partial \\mathbf{W}_{ij}} = (\\hat{y}_i - y_i) \\cdot f_j(x)$.\n",
    "\n",
    "**Partial derivative of $L$ with respect to $b_i$:**\n",
    "Similarly, the derivative of $z_i$ with respect to $b_i$ is 1 since $z_i$ is linear in $b_i$.\n",
    "\n",
    "Therefore, $\\frac{\\partial L}{\\partial b_i} = \\hat{y}_i - y_i$."
   ]
  },
  {
   "cell_type": "markdown",
   "metadata": {
    "id": "PPMsAq5bBwot"
   },
   "source": [
    "## Question 5.2. Implementing Cross Entropy Loss. (5 points)\n",
    "Please fill out ```cross_entropy``` function."
   ]
  },
  {
   "cell_type": "code",
   "execution_count": 19,
   "metadata": {
    "id": "u87aoD-5oMlP"
   },
   "outputs": [],
   "source": [
    "def cross_entropy(logits, labels):\n",
    "    \"\"\"\n",
    "    Args:\n",
    "    - logits: Tensor of logits (shape: [batch_size, num_classes]).\n",
    "    - labels: LongTensor of labels (shape: [batch_size]).\n",
    "\n",
    "    Returns:\n",
    "    - loss: the mean cross entropy loss.\n",
    "    \"\"\"\n",
    "\n",
    "    # TODO: Cross-Entropy Loss\n",
    "\n",
    "    if not labels.dtype == torch.long:\n",
    "        raise ValueError(\"Labels dtype should be torch.long\")\n",
    "\n",
    "    probs = F.softmax(logits, dim=1)\n",
    "    log_probs = torch.log(probs)\n",
    "\n",
    "    batch_size, num_classes = logits.size()\n",
    "\n",
    "    labels_one_hot = torch.zeros_like(logits).scatter_(1, labels.unsqueeze(1), 1)\n",
    "\n",
    "    # Compute the cross entropy loss\n",
    "    loss = -torch.sum(labels_one_hot * log_probs) / batch_size\n",
    "\n",
    "    return loss"
   ]
  },
  {
   "cell_type": "markdown",
   "metadata": {
    "id": "e3tqEAg1CDDk"
   },
   "source": [
    "## Question 5.3. Implementing SGD (5 points)\n",
    "Please fill out the ```step``` function in ```SGD```."
   ]
  },
  {
   "cell_type": "code",
   "execution_count": 20,
   "metadata": {
    "colab": {
     "base_uri": "https://localhost:8080/"
    },
    "id": "FTDlVTxKootN",
    "outputId": "85bd06d5-4d0f-4927-ed81-65bbd2f135eb"
   },
   "outputs": [],
   "source": [
    "class SGD(Optimizer):\n",
    "    def __init__(self, params, lr=0.01):\n",
    "        if lr < 0.0:\n",
    "            raise ValueError(\"Invalid learning rate: {}\".format(lr))\n",
    "\n",
    "        defaults = dict(lr=lr)\n",
    "        super(SGD, self).__init__(params, defaults)\n",
    "\n",
    "    def step(self, closure=None):\n",
    "        \"\"\"\n",
    "        Performs a single optimization step (parameter update).\n",
    "\n",
    "        Args:\n",
    "            closure (callable, optional): A closure that re-evaluates the model\n",
    "                and returns the loss. This is useful for certain types of\n",
    "                optimization algorithms that require re-evaluation of the loss.\n",
    "                For simple SGD, this is not typically used, i.e., closure=None.\n",
    "\n",
    "        Returns:\n",
    "            The loss returned by the closure if it is provided; otherwise, None.\n",
    "        \"\"\"\n",
    "        loss = None\n",
    "        if closure is not None:\n",
    "            loss = closure()\n",
    "\n",
    "        for group in self.param_groups:\n",
    "            for p in group['params']:\n",
    "                if p.grad is None:\n",
    "                    continue\n",
    "                # TODO: SGD\n",
    "                # Using SGD update rule for updating p.data\n",
    "                d_p = p.grad.data  # Gradient\n",
    "                p.data = p.data - group['lr'] * d_p  # Update\n",
    "\n",
    "        return loss"
   ]
  },
  {
   "cell_type": "markdown",
   "metadata": {
    "id": "g74ZJzJkqDRz"
   },
   "source": [
    "# Question 6. Combine them together to train a simple CNN (25 Points)\n",
    "\n",
    "In this exercise, you will leverage the custom ```Dropout``` and ```BatchNorm2d``` layers developed in previous questions to construct a simple CNN To enhance computational efficiency, please utilize ```nn.Conv2d``` for the convolution operations. The training process will employ ```cross_entropy``` as the loss function, with ```SGD``` serving as the optimizer to this model.\n",
    "\n",
    "Throughout the training phase, you should save the model that achieves the highest accuracy on the validation set. This step ensures that you can report the performance of the optimally performing model. Further, you should use ```plot_curves()``` to show the training/validation error rates."
   ]
  },
  {
   "cell_type": "markdown",
   "metadata": {
    "id": "Rtoe5_EN2-_Y"
   },
   "source": [
    "## Question 6.1\n",
    "In this question, you are required to build a simple CNN. This CNN should contain three convolutional blocks. Each block consists of the following layers: Conv2d, BatchNorm2d, ReLU, and MaxPool2d.\n",
    "\n",
    "Every Conv2d layer must have a ```kernel_size = 2``` and ```padding = 1```. The input_channels and output_channels for each convolutional layer are specified as follows: [(3, 16), (16, 32), (32, 64)]. For instance, the second Conv2d layer should have ```input_channels = 16``` and ```output_channels = 32```. After these three convolutional blocks, you must add an MLP as a classifier. The architecture of this MLP is (Linear(input_dim, hidden_dim), ReLU, Dropout, Linear(hidden_dim, num_classes)), where ```hidden_dim = 512```, ```num_classes = 10```, ```p=0.25``` for ```Dropout```. Please use MaxPool2d with ```kernel_size = 2``` and ```stride =2``` You need to determine the correct ```input_dim```.\n",
    "\n",
    "Pleas fill out ```__init__``` and ```forward``` in ```SimpleCNN```."
   ]
  },
  {
   "cell_type": "code",
   "execution_count": 21,
   "metadata": {
    "id": "67TqcInCnL51"
   },
   "outputs": [],
   "source": [
    "class SimpleCNN(nn.Module):\n",
    "    def __init__(self, num_classes=10):\n",
    "        super(SimpleCNN, self).__init__()\n",
    "\n",
    "        # TODO: initial CNN\n",
    "        # Convolutional Block 1\n",
    "        self.conv1 = nn.Conv2d(3, 16, kernel_size=2, padding=1)\n",
    "        self.bn1 = BatchNorm2d(16)\n",
    "        self.pool1 = nn.MaxPool2d(kernel_size=2, stride=2)\n",
    "\n",
    "        # Convolutional Block 2\n",
    "        self.conv2 = nn.Conv2d(16, 32, kernel_size=2, padding=1)\n",
    "        self.bn2 = BatchNorm2d(32)\n",
    "        self.pool2 = nn.MaxPool2d(kernel_size=2, stride=2)\n",
    "\n",
    "        # Convolutional Block 3\n",
    "        self.conv3 = nn.Conv2d(32, 64, kernel_size=2, padding=1)\n",
    "        self.bn3 = BatchNorm2d(64)\n",
    "        self.pool3 = nn.MaxPool2d(kernel_size=2, stride=2)\n",
    "\n",
    "        # MLP Classifier\n",
    "        self.fc1 = nn.Linear(64 * 4 * 4, 512)  # 64 channels, 4x4 image dimension\n",
    "        self.dropout = Dropout(p=0.25)\n",
    "        self.fc2 = nn.Linear(512, num_classes)\n",
    "\n",
    "    def forward(self, x):\n",
    "        # TODO: feedforward function for CNN\n",
    "\n",
    "        # Convolutional Block 1\n",
    "        x = self.pool1(F.relu(self.bn1(self.conv1(x))))\n",
    "\n",
    "        # Convolutional Block 2\n",
    "        x = self.pool2(F.relu(self.bn2(self.conv2(x))))\n",
    "\n",
    "        # Convolutional Block 3\n",
    "        x = self.pool3(F.relu(self.bn3(self.conv3(x))))\n",
    "\n",
    "        # Flatten\n",
    "        x = x.view(x.size(0), -1)\n",
    "\n",
    "        # MLP Classifier\n",
    "        x = F.relu(self.fc1(x))\n",
    "        x = self.dropout(x)\n",
    "        x = self.fc2(x)\n",
    "\n",
    "        return x\n"
   ]
  },
  {
   "cell_type": "markdown",
   "metadata": {
    "id": "Y6dGRIuF3YtA"
   },
   "source": [
    "## Question 6.2. Train a simple CNN.\n",
    "In this question, you are to train a simple CNN for ```lr = 0.01``` using your SGD optimizer."
   ]
  },
  {
   "cell_type": "code",
   "execution_count": 22,
   "metadata": {
    "id": "2S2JeX8e4Lo5"
   },
   "outputs": [
    {
     "name": "stderr",
     "output_type": "stream",
     "text": [
      " 20%|█████████████▏                                                    | 10/50 [01:43<07:55, 11.88s/it]"
     ]
    },
    {
     "name": "stdout",
     "output_type": "stream",
     "text": [
      "Epoch: 10\n",
      "Average training loss: 1.541\n",
      "Current validation error rate: 45.610\n",
      "Val error rate is decreasing: {100.00%} -> {45.61%}\n",
      "Model saved\n"
     ]
    },
    {
     "name": "stderr",
     "output_type": "stream",
     "text": [
      " 40%|██████████████████████████▍                                       | 20/50 [03:24<05:53, 11.79s/it]"
     ]
    },
    {
     "name": "stdout",
     "output_type": "stream",
     "text": [
      "Epoch: 20\n",
      "Average training loss: 1.168\n",
      "Current validation error rate: 40.860\n",
      "Val error rate is decreasing: {45.61%} -> {40.86%}\n",
      "Model saved\n"
     ]
    },
    {
     "name": "stderr",
     "output_type": "stream",
     "text": [
      " 60%|███████████████████████████████████████▌                          | 30/50 [05:08<04:00, 12.02s/it]"
     ]
    },
    {
     "name": "stdout",
     "output_type": "stream",
     "text": [
      "Epoch: 30\n",
      "Average training loss: 1.029\n",
      "Current validation error rate: 38.080\n",
      "Val error rate is decreasing: {40.86%} -> {38.08%}\n",
      "Model saved\n"
     ]
    },
    {
     "name": "stderr",
     "output_type": "stream",
     "text": [
      " 80%|████████████████████████████████████████████████████▊             | 40/50 [06:50<01:56, 11.68s/it]"
     ]
    },
    {
     "name": "stdout",
     "output_type": "stream",
     "text": [
      "Epoch: 40\n",
      "Average training loss: 0.943\n",
      "Current validation error rate: 34.320\n",
      "Val error rate is decreasing: {38.08%} -> {34.32%}\n",
      "Model saved\n"
     ]
    },
    {
     "name": "stderr",
     "output_type": "stream",
     "text": [
      "100%|██████████████████████████████████████████████████████████████████| 50/50 [08:29<00:00, 10.20s/it]"
     ]
    },
    {
     "name": "stdout",
     "output_type": "stream",
     "text": [
      "Epoch: 50\n",
      "Average training loss: 0.880\n",
      "Current validation error rate: 30.850\n",
      "Val error rate is decreasing: {34.32%} -> {30.85%}\n",
      "Model saved\n"
     ]
    },
    {
     "name": "stderr",
     "output_type": "stream",
     "text": [
      "\n"
     ]
    }
   ],
   "source": [
    "n_epochs = 50\n",
    "eval_interval = 10\n",
    "model = SimpleCNN()\n",
    "model.to(device)\n",
    "optimizer = SGD(model.parameters(), lr=0.01)\n",
    "min_error = 1.0\n",
    "train_error_rates, val_error_rates = [], []\n",
    "\n",
    "running_loss = 0.0\n",
    "running_steps = 0\n",
    "\n",
    "for epoch in tqdm(range(1, n_epochs + 1)):\n",
    "    model.train()\n",
    "    for imgs, labels in train_loader:\n",
    "        imgs, labels = imgs.to(device), labels.to(device)\n",
    "        logits = model(imgs)\n",
    "        optimizer.zero_grad()\n",
    "        loss = cross_entropy(logits, labels)\n",
    "        loss.backward()\n",
    "        optimizer.step()\n",
    "        running_loss += loss.item()\n",
    "        running_steps += 1\n",
    "\n",
    "    if epoch % eval_interval == 0:\n",
    "        train_error = 1 - eval_accuracy(model, train_loader, device)\n",
    "        val_error = 1 - eval_accuracy(model, val_loader, device)\n",
    "        val_error_rates.append(val_error)\n",
    "        train_error_rates.append(train_error)\n",
    "        # Append your error rates for plotting\n",
    "\n",
    "        print('Epoch: %d' % epoch)\n",
    "        print('Average training loss: %.3f' % (running_loss / running_steps))\n",
    "        print('Current validation error rate: %.3f' % (val_error * 100.0))\n",
    "        running_loss, running_steps = 0., 0\n",
    "        if val_error < min_error:\n",
    "            print('Val error rate is decreasing: {%.2f%%} -> {%.2f%%}' % (min_error * 100.0, val_error * 100.0))\n",
    "            torch.save(model.state_dict(), 'model_parameters.pth')\n",
    "            print('Model saved')\n",
    "\n",
    "        min_error = min(val_error, min_error)"
   ]
  },
  {
   "cell_type": "code",
   "execution_count": 23,
   "metadata": {
    "id": "3c0netYoAF6O"
   },
   "outputs": [
    {
     "name": "stdout",
     "output_type": "stream",
     "text": [
      "Test accuracy = 68.70%\n"
     ]
    }
   ],
   "source": [
    "model.load_state_dict(torch.load('model_parameters.pth'))\n",
    "test_acc = eval_accuracy(model, test_loader, device)\n",
    "print('Test accuracy = %.2f%%' % (test_acc * 100))"
   ]
  },
  {
   "cell_type": "code",
   "execution_count": 24,
   "metadata": {
    "id": "rKYdQRf8knlj"
   },
   "outputs": [
    {
     "data": {
      "image/png": "[encoded data removed]",
      "text/plain": [
       "<Figure size 1000x600 with 1 Axes>"
      ]
     },
     "metadata": {},
     "output_type": "display_data"
    }
   ],
   "source": [
    "plot_curves(train_error_rates, val_error_rates)"
   ]
  }
 ],
 "metadata": {
  "accelerator": "GPU",
  "anaconda-cloud": {},
  "colab": {
   "gpuType": "T4",
   "machine_shape": "hm",
   "provenance": []
  },
  "kernelspec": {
   "display_name": "Python 3 (ipykernel)",
   "language": "python",
   "name": "python3"
  },
  "language_info": {
   "codemirror_mode": {
    "name": "ipython",
    "version": 3
   },
   "file_extension": ".py",
   "mimetype": "text/x-python",
   "name": "python",
   "nbconvert_exporter": "python",
   "pygments_lexer": "ipython3",
   "version": "3.11.3"
  },
  "toc": {
   "base_numbering": 1,
   "nav_menu": {},
   "number_sections": true,
   "sideBar": true,
   "skip_h1_title": false,
   "title_cell": "Table of Contents",
   "title_sidebar": "Contents",
   "toc_cell": false,
   "toc_position": {},
   "toc_section_display": true,
   "toc_window_display": false
  },
  "varInspector": {
   "cols": {
    "lenName": 16,
    "lenType": 16,
    "lenVar": 40
   },
   "kernels_config": {
    "python": {
     "delete_cmd_postfix": "",
     "delete_cmd_prefix": "del ",
     "library": "var_list.py",
     "varRefreshCmd": "print(var_dic_list())"
    },
    "r": {
     "delete_cmd_postfix": ") ",
     "delete_cmd_prefix": "rm(",
     "library": "var_list.r",
     "varRefreshCmd": "cat(var_dic_list()) "
    }
   },
   "types_to_exclude": [
    "module",
    "function",
    "builtin_function_or_method",
    "instance",
    "_Feature"
   ],
   "window_display": false
  }
 },
 "nbformat": 4,
 "nbformat_minor": 4
}
