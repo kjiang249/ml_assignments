{
 "cells": [
  {
   "cell_type": "markdown",
   "metadata": {
    "id": "uHZhkDjZEV-5"
   },
   "source": [
    "# CS 480/680 assignment 3\n",
    "\n",
    "Tips:\n",
    "- Please save a copy of this notebook to avoid losing your changes.\n",
    "- Debug your code and ensure that it can run.\n",
    "- Save the output of each cell. Failure to do so may result in your coding questions not being graded.\n",
    "- To accelerate the training time, you can choose 'Runtime' -> 'Change runtime type' -> 'Hardware accelerator' and set 'Hardware accelerator' to 'GPU'.\n",
    "- Your grade is independent of the accuracy of your models. Your grade will depend on the correctness of your code and implementation.\n",
    "\n",
    "Tips for sumbission:\n",
    "- Do not change the order of the problems.\n",
    "- Select 'Runtime' -> 'Run all' to run all cells and generate a final \"gradable\" version of your notebook and save your ipynb file.\n",
    "- Also use 'File' -> 'Print' and then print your report from your browser into a PDF file."
   ]
  },
  {
   "cell_type": "markdown",
   "metadata": {
    "id": "GK9gmfL4KxeF"
   },
   "source": [
    "## Question 1 - Implementing GAN for MNIST dataset (35 points)\n",
    "\n",
    "In this question we are going to impelement a generative network that can generate MNIST handwritten digits from random Gaussian noise."
   ]
  },
  {
   "cell_type": "markdown",
   "metadata": {
    "id": "_n-Mg5YdE5YR"
   },
   "source": [
    "### Q1.1 (2 points)\n",
    "\n",
    "We start by creating the data loaders. Note that each MNIST image is of size 28\\*28. The **first task** is to build the ```data_loader```"
   ]
  },
  {
   "cell_type": "code",
   "execution_count": 2,
   "metadata": {
    "id": "z-BU1m9IEXKY"
   },
   "outputs": [
    {
     "name": "stdout",
     "output_type": "stream",
     "text": [
      "Using device: mps\n"
     ]
    }
   ],
   "source": [
    "import torch\n",
    "import torch.nn as nn\n",
    "import torch.optim as optim\n",
    "from torchvision import datasets, transforms\n",
    "from torch.utils.data import DataLoader\n",
    "import matplotlib.pyplot as plt\n",
    "import os\n",
    "\n",
    "\n",
    "# Setting the device\n",
    "# device = torch.device('cuda' if torch.cuda.is_available() else 'cpu')\n",
    "device = torch.device(\"mps\" if torch.backends.mps.is_available() else (\"cuda\" if torch.cuda.is_available() else \"cpu\"))\n",
    "\n",
    "print(f\"Using device: {device}\")\n",
    "\n",
    "transform = transforms.Compose([\n",
    "    transforms.ToTensor(),\n",
    "    transforms.Normalize((0.5,), (0.5,))\n",
    "])\n",
    "batch_size = 100\n",
    "train_dataset = datasets.MNIST(root='./data', train=True, transform=transform, download=True)\n",
    "\n",
    "#ToDo: Build the train data loader using the above batch_size varibale and shuffling the dataset.\n",
    "data_loader = DataLoader(dataset=train_dataset, \n",
    "                          batch_size=100, \n",
    "                          shuffle=True)\n",
    "\n"
   ]
  },
  {
   "cell_type": "markdown",
   "metadata": {
    "id": "w_-NwpdfFGQs"
   },
   "source": [
    "### Q1.2 Generator (5 points)\n",
    "We will be building simple Generator and Discriminators that only consist of fully-connected layers. The Generator takes as input a Gaussian vector with dimension ```n_dim```. It consists of two linear layers with ```256``` and ```512``` nodes and the output layer should of dimension ```28*28=784``` so that it can be considered as unfolding a ```28*28``` image into a vector. The **second task** is to complete the following code for building the Generator."
   ]
  },
  {
   "cell_type": "code",
   "execution_count": 3,
   "metadata": {
    "id": "uACYmlwwG2tL"
   },
   "outputs": [],
   "source": [
    "class Generator(nn.Module):\n",
    "    def __init__(self, n_dim):\n",
    "        super(Generator, self).__init__()\n",
    "        #ToDo: Complete the code\n",
    "        #The activation function for the two hidden layers is ReLU.\n",
    "        #The last layer's activation function is Tanh.\n",
    "        \n",
    "        self.fc1 = nn.Linear(n_dim, 256)\n",
    "        self.fc2 = nn.Linear(256, 512)\n",
    "        self.fc3 = nn.Linear(512, 28*28)\n",
    "        self.relu = nn.ReLU()\n",
    "        self.tanh = nn.Tanh()\n",
    "\n",
    "\n",
    "    def forward(self, x):\n",
    "        #ToDo: Complete this function. The function takes as input x and outputs the result of applying the generator on x.\n",
    "        x = self.relu(self.fc1(x))\n",
    "        x = self.relu(self.fc2(x))\n",
    "        x = self.tanh(self.fc3(x))\n",
    "        return x\n"
   ]
  },
  {
   "cell_type": "markdown",
   "metadata": {
    "id": "InnZY0glITeK"
   },
   "source": [
    "### Q1.3 Discriminator (5 points)\n",
    "The Discriminator takes as input an image of size ```28*28```. It consists of two linear layers with ```512``` and ```256``` nodes and the output layer should be a single node. The **third task** complete the following code for building the Discriminator."
   ]
  },
  {
   "cell_type": "code",
   "execution_count": 5,
   "metadata": {
    "id": "t5hdsi10JWJI"
   },
   "outputs": [],
   "source": [
    "class Discriminator(nn.Module):\n",
    "    def __init__(self):\n",
    "        super(Discriminator, self).__init__()\n",
    "            #ToDo: Complete the code\n",
    "            #The activation functions for the two hidden layers are ReLU.\n",
    "            #The last layer's activation function is Sigmoid.\n",
    "        self.fc1 = nn.Linear(28*28,512)\n",
    "        self.fc2 = nn.Linear(512, 256)\n",
    "        self.fc3 = nn.Linear(256, 1)\n",
    "        self.relu = nn.ReLU()\n",
    "        self.sigmoid = nn.Sigmoid()\n",
    "\n",
    "    def forward(self, x):\n",
    "        x = x.view(x.size(0), -1) # Making sure that the batch of images has the shape [batch_size,28*28] instead of [batch_size,1,28,28]\n",
    "        #ToDo: Complete this function. The function takes as input x and outputs the result of applying the generator on x.\n",
    "        x = self.relu(self.fc1(x))\n",
    "        x = self.relu(self.fc2(x))\n",
    "        x = self.sigmoid(self.fc3(x)) \n",
    "        return x"
   ]
  },
  {
   "cell_type": "markdown",
   "metadata": {
    "id": "SXItGnRYK69p"
   },
   "source": [
    "### Q1.4 Initializaiton (2 points)\n",
    "\n",
    "The **fourth task** is to define the optimizers."
   ]
  },
  {
   "cell_type": "code",
   "execution_count": 6,
   "metadata": {
    "id": "FyuaaCJLLCdE"
   },
   "outputs": [],
   "source": [
    "n_dim = 100\n",
    "generator = Generator(n_dim).to(device)\n",
    "discriminator = Discriminator().to(device)\n",
    "lr = 0.0002\n",
    "\n",
    "\n",
    "criterion = nn.BCELoss()\n",
    "#ToDo: define the two different Adam optimizers for generator and discriminator with learning rates of lr.\n",
    "\n",
    "d_optimizer = torch.optim.Adam(discriminator.parameters(), lr=lr)\n",
    "g_optimizer = torch.optim.Adam(generator.parameters(), lr=lr)"
   ]
  },
  {
   "cell_type": "markdown",
   "metadata": {
    "id": "ASpkAhASZs-m"
   },
   "source": [
    "### Q1.5 Training (16 points)\n",
    "\n",
    "Note that when applying the ```criterion``` both the inputs should be on the same device. If you are defining a set of labels that you want to use in ```criterion``` you must move them to ```device``` first.\n",
    "\n",
    "Recall from the Goodfellow et al. 2014 that the following happens during the minimax game between Discriminator and the Generator.\n",
    "\n",
    "Discriminator is ascending\n",
    "$\\nabla\\frac{1}{m}\\sum_{i=1}^m\\log D(x^{(i)}) + \\log(1-D(G(z^{(i)})))$ where $D$ and $G$ denote the Districiminator and the Generator, respectively. Here, $x^{1},\\ldots,x^{m}$ is the batch of training examples (i.e., MNIST images) and $z^{(1)},\\ldots,z^{(m)}$ is a batch of random noise.\n",
    "\n",
    "Also note that for two batches $x=\\{x^{1},\\ldots,x^{m}\\}$ and $y=\\{y^{1},\\ldots,y^{m}\\}$ the BCELoss function $l(x,y)$ computes the following.\n",
    "$$l(x,y) = \\frac{1}{m}\\sum_{i=1}^m y^{(i)}\\log x^{(i)} + (1-y^{(i)})\\log (1- x^{(i)})$$\n",
    "\n",
    "The **fifth task** is to make sure that ```d_loss``` is computing the quantity that discriminator wants to ascend. This is achieved by setting ```d_loss = d_loss_real + d_loss_fake``` and letting ```d_loss_real``` to be $\\frac{1}{m}\\sum_{i=1}^m\\log D(x^{(i)})$ and ```d_loss_fake``` to be $\\frac{1}{m}\\sum_{i=1}^m \\log(1-D(G(z^{(i)})))$. Hint: ```d_loss_real``` is already implemented.\n",
    "\n",
    "We now turn to train the generator. Initially, the generator wants to descend the following $\\nabla\\frac{1}{m}\\sum_{i=1}^m \\log(1-D(G(z^{(i)})))$. However, this may affect the training of the generator specifically in the early stages of training where the discriminator can confidently reject the generated examples [Goodfellow et al., 2014]. Instead, we will require the generator to ascend $\\nabla\\frac{1}{m}\\sum_{i=1}^m \\log(D(G(z^{(i)})))$. The **sixth task** is to compute ```g_loss``` used for training the generator.\n"
   ]
  },
  {
   "cell_type": "code",
   "execution_count": 8,
   "metadata": {
    "id": "RA8t-sCQZ8SG"
   },
   "outputs": [
    {
     "name": "stdout",
     "output_type": "stream",
     "text": [
      "Epoch [1/50], Step [300/600], Discriminator Loss: 0.6362, Generator Loss: 2.2157\n",
      "Epoch [1/50], Step [600/600], Discriminator Loss: 0.6067, Generator Loss: 1.8166\n",
      "Epoch [2/50], Step [300/600], Discriminator Loss: 0.7392, Generator Loss: 1.8432\n",
      "Epoch [2/50], Step [600/600], Discriminator Loss: 0.7416, Generator Loss: 1.9971\n",
      "Epoch [3/50], Step [300/600], Discriminator Loss: 0.9372, Generator Loss: 2.0976\n",
      "Epoch [3/50], Step [600/600], Discriminator Loss: 0.5611, Generator Loss: 2.2274\n",
      "Epoch [4/50], Step [300/600], Discriminator Loss: 0.7271, Generator Loss: 1.9037\n",
      "Epoch [4/50], Step [600/600], Discriminator Loss: 0.6053, Generator Loss: 2.0857\n",
      "Epoch [5/50], Step [300/600], Discriminator Loss: 0.5823, Generator Loss: 2.1791\n",
      "Epoch [5/50], Step [600/600], Discriminator Loss: 0.8300, Generator Loss: 2.1409\n",
      "Epoch [6/50], Step [300/600], Discriminator Loss: 0.8932, Generator Loss: 1.6404\n",
      "Epoch [6/50], Step [600/600], Discriminator Loss: 0.7065, Generator Loss: 1.6069\n",
      "Epoch [7/50], Step [300/600], Discriminator Loss: 0.8794, Generator Loss: 1.7092\n",
      "Epoch [7/50], Step [600/600], Discriminator Loss: 0.6939, Generator Loss: 2.0695\n",
      "Epoch [8/50], Step [300/600], Discriminator Loss: 0.8760, Generator Loss: 1.7549\n",
      "Epoch [8/50], Step [600/600], Discriminator Loss: 0.8868, Generator Loss: 1.9007\n",
      "Epoch [9/50], Step [300/600], Discriminator Loss: 0.8276, Generator Loss: 1.9543\n",
      "Epoch [9/50], Step [600/600], Discriminator Loss: 0.6906, Generator Loss: 1.8112\n",
      "Epoch [10/50], Step [300/600], Discriminator Loss: 0.9100, Generator Loss: 1.5375\n",
      "Epoch [10/50], Step [600/600], Discriminator Loss: 0.8115, Generator Loss: 1.8278\n",
      "Epoch [11/50], Step [300/600], Discriminator Loss: 0.8069, Generator Loss: 1.6358\n",
      "Epoch [11/50], Step [600/600], Discriminator Loss: 0.9418, Generator Loss: 1.6484\n",
      "Epoch [12/50], Step [300/600], Discriminator Loss: 0.7680, Generator Loss: 1.6454\n",
      "Epoch [12/50], Step [600/600], Discriminator Loss: 0.7894, Generator Loss: 2.0551\n",
      "Epoch [13/50], Step [300/600], Discriminator Loss: 0.8751, Generator Loss: 1.7367\n",
      "Epoch [13/50], Step [600/600], Discriminator Loss: 0.9372, Generator Loss: 1.4620\n",
      "Epoch [14/50], Step [300/600], Discriminator Loss: 0.7204, Generator Loss: 1.4520\n",
      "Epoch [14/50], Step [600/600], Discriminator Loss: 1.0452, Generator Loss: 1.7862\n",
      "Epoch [15/50], Step [300/600], Discriminator Loss: 0.9026, Generator Loss: 1.9191\n",
      "Epoch [15/50], Step [600/600], Discriminator Loss: 1.0734, Generator Loss: 1.3046\n",
      "Epoch [16/50], Step [300/600], Discriminator Loss: 0.9587, Generator Loss: 1.7958\n",
      "Epoch [16/50], Step [600/600], Discriminator Loss: 0.7856, Generator Loss: 1.5687\n",
      "Epoch [17/50], Step [300/600], Discriminator Loss: 1.1793, Generator Loss: 1.8858\n",
      "Epoch [17/50], Step [600/600], Discriminator Loss: 0.9286, Generator Loss: 1.4428\n",
      "Epoch [18/50], Step [300/600], Discriminator Loss: 0.8858, Generator Loss: 1.7473\n",
      "Epoch [18/50], Step [600/600], Discriminator Loss: 0.8987, Generator Loss: 1.5604\n",
      "Epoch [19/50], Step [300/600], Discriminator Loss: 0.7049, Generator Loss: 1.5337\n",
      "Epoch [19/50], Step [600/600], Discriminator Loss: 0.9415, Generator Loss: 1.4441\n",
      "Epoch [20/50], Step [300/600], Discriminator Loss: 0.7260, Generator Loss: 1.5818\n",
      "Epoch [20/50], Step [600/600], Discriminator Loss: 0.9315, Generator Loss: 1.4172\n",
      "Epoch [21/50], Step [300/600], Discriminator Loss: 0.7469, Generator Loss: 2.2270\n",
      "Epoch [21/50], Step [600/600], Discriminator Loss: 0.8524, Generator Loss: 1.9153\n",
      "Epoch [22/50], Step [300/600], Discriminator Loss: 1.1319, Generator Loss: 1.1220\n",
      "Epoch [22/50], Step [600/600], Discriminator Loss: 0.6067, Generator Loss: 1.8868\n",
      "Epoch [23/50], Step [300/600], Discriminator Loss: 0.8323, Generator Loss: 1.3690\n",
      "Epoch [23/50], Step [600/600], Discriminator Loss: 1.1077, Generator Loss: 1.7082\n",
      "Epoch [24/50], Step [300/600], Discriminator Loss: 0.9977, Generator Loss: 1.1190\n",
      "Epoch [24/50], Step [600/600], Discriminator Loss: 0.7390, Generator Loss: 1.5319\n",
      "Epoch [25/50], Step [300/600], Discriminator Loss: 0.8260, Generator Loss: 1.6020\n",
      "Epoch [25/50], Step [600/600], Discriminator Loss: 0.9660, Generator Loss: 1.4500\n",
      "Epoch [26/50], Step [300/600], Discriminator Loss: 0.8366, Generator Loss: 1.7483\n",
      "Epoch [26/50], Step [600/600], Discriminator Loss: 0.8716, Generator Loss: 1.6889\n",
      "Epoch [27/50], Step [300/600], Discriminator Loss: 0.7779, Generator Loss: 1.6300\n",
      "Epoch [27/50], Step [600/600], Discriminator Loss: 0.8575, Generator Loss: 1.7310\n",
      "Epoch [28/50], Step [300/600], Discriminator Loss: 0.9784, Generator Loss: 1.5161\n",
      "Epoch [28/50], Step [600/600], Discriminator Loss: 0.7647, Generator Loss: 1.6334\n",
      "Epoch [29/50], Step [300/600], Discriminator Loss: 0.7871, Generator Loss: 1.6296\n",
      "Epoch [29/50], Step [600/600], Discriminator Loss: 0.8736, Generator Loss: 1.4931\n",
      "Epoch [30/50], Step [300/600], Discriminator Loss: 0.8365, Generator Loss: 2.0558\n",
      "Epoch [30/50], Step [600/600], Discriminator Loss: 1.0065, Generator Loss: 1.4175\n",
      "Epoch [31/50], Step [300/600], Discriminator Loss: 1.0623, Generator Loss: 1.5885\n",
      "Epoch [31/50], Step [600/600], Discriminator Loss: 0.8644, Generator Loss: 1.6316\n",
      "Epoch [32/50], Step [300/600], Discriminator Loss: 0.9998, Generator Loss: 1.6349\n",
      "Epoch [32/50], Step [600/600], Discriminator Loss: 1.1446, Generator Loss: 1.3572\n",
      "Epoch [33/50], Step [300/600], Discriminator Loss: 0.9589, Generator Loss: 1.5116\n",
      "Epoch [33/50], Step [600/600], Discriminator Loss: 1.0278, Generator Loss: 1.3763\n",
      "Epoch [34/50], Step [300/600], Discriminator Loss: 0.9521, Generator Loss: 1.4150\n",
      "Epoch [34/50], Step [600/600], Discriminator Loss: 0.8618, Generator Loss: 1.5174\n",
      "Epoch [35/50], Step [300/600], Discriminator Loss: 0.9591, Generator Loss: 1.5460\n",
      "Epoch [35/50], Step [600/600], Discriminator Loss: 0.9902, Generator Loss: 1.2330\n",
      "Epoch [36/50], Step [300/600], Discriminator Loss: 1.0239, Generator Loss: 1.7715\n",
      "Epoch [36/50], Step [600/600], Discriminator Loss: 0.9508, Generator Loss: 1.4723\n",
      "Epoch [37/50], Step [300/600], Discriminator Loss: 0.8129, Generator Loss: 1.6299\n",
      "Epoch [37/50], Step [600/600], Discriminator Loss: 0.9457, Generator Loss: 1.4661\n",
      "Epoch [38/50], Step [300/600], Discriminator Loss: 1.0258, Generator Loss: 1.5960\n",
      "Epoch [38/50], Step [600/600], Discriminator Loss: 0.7661, Generator Loss: 1.2774\n",
      "Epoch [39/50], Step [300/600], Discriminator Loss: 0.9564, Generator Loss: 1.8688\n",
      "Epoch [39/50], Step [600/600], Discriminator Loss: 1.0499, Generator Loss: 1.4496\n",
      "Epoch [40/50], Step [300/600], Discriminator Loss: 0.9436, Generator Loss: 1.3943\n",
      "Epoch [40/50], Step [600/600], Discriminator Loss: 0.9978, Generator Loss: 1.3559\n",
      "Epoch [41/50], Step [300/600], Discriminator Loss: 0.8595, Generator Loss: 1.4583\n",
      "Epoch [41/50], Step [600/600], Discriminator Loss: 0.8468, Generator Loss: 1.5189\n",
      "Epoch [42/50], Step [300/600], Discriminator Loss: 0.9721, Generator Loss: 1.3628\n",
      "Epoch [42/50], Step [600/600], Discriminator Loss: 0.9423, Generator Loss: 1.4921\n",
      "Epoch [43/50], Step [300/600], Discriminator Loss: 0.9187, Generator Loss: 1.5634\n",
      "Epoch [43/50], Step [600/600], Discriminator Loss: 1.4646, Generator Loss: 1.3308\n",
      "Epoch [44/50], Step [300/600], Discriminator Loss: 1.1902, Generator Loss: 1.7238\n",
      "Epoch [44/50], Step [600/600], Discriminator Loss: 1.0064, Generator Loss: 1.4597\n",
      "Epoch [45/50], Step [300/600], Discriminator Loss: 0.8678, Generator Loss: 1.5040\n",
      "Epoch [45/50], Step [600/600], Discriminator Loss: 0.9244, Generator Loss: 1.3193\n",
      "Epoch [46/50], Step [300/600], Discriminator Loss: 1.1400, Generator Loss: 1.3760\n",
      "Epoch [46/50], Step [600/600], Discriminator Loss: 1.1498, Generator Loss: 1.5071\n",
      "Epoch [47/50], Step [300/600], Discriminator Loss: 1.0187, Generator Loss: 1.2929\n",
      "Epoch [47/50], Step [600/600], Discriminator Loss: 0.9558, Generator Loss: 1.5272\n",
      "Epoch [48/50], Step [300/600], Discriminator Loss: 1.0781, Generator Loss: 1.3482\n",
      "Epoch [48/50], Step [600/600], Discriminator Loss: 1.0667, Generator Loss: 1.3567\n",
      "Epoch [49/50], Step [300/600], Discriminator Loss: 0.9913, Generator Loss: 1.2086\n",
      "Epoch [49/50], Step [600/600], Discriminator Loss: 0.9489, Generator Loss: 1.4899\n",
      "Epoch [50/50], Step [300/600], Discriminator Loss: 1.2622, Generator Loss: 1.3402\n",
      "Epoch [50/50], Step [600/600], Discriminator Loss: 1.0449, Generator Loss: 1.5575\n"
     ]
    }
   ],
   "source": [
    "num_epochs = 50\n",
    "total_step = len(data_loader)\n",
    "for epoch in range(num_epochs):\n",
    "    for i, (images, _) in enumerate(data_loader):\n",
    "        real_images = images.to(device)\n",
    "\n",
    "        # Training discriminator\n",
    "        discriminator.zero_grad()\n",
    "        real_outputs = discriminator(real_images)\n",
    "        real_labels = torch.ones(real_images.size(0), 1).to(device)\n",
    "        d_loss_real = criterion(real_outputs, real_labels)\n",
    "\n",
    "        #ToDo: Compute d_loss_fake\n",
    "        noise = torch.randn(real_images.size(0), n_dim, device=device)\n",
    "        fake_images = generator(noise)\n",
    "        fake_outputs = discriminator(fake_images)\n",
    "        fake_labels = torch.zeros(real_images.size(0), 1).to(device)\n",
    "        d_loss_fake = criterion(fake_outputs, fake_labels)\n",
    "\n",
    "\n",
    "        d_loss = d_loss_real + d_loss_fake\n",
    "        d_loss.backward()\n",
    "        d_optimizer.step()\n",
    "\n",
    "        # Training generator\n",
    "        generator.zero_grad()\n",
    "\n",
    "        #ToDo: compute g_loss\n",
    "        noise = torch.randn(real_images.size(0), n_dim, device=device)\n",
    "        fake_images = generator(noise)\n",
    "        outputs = discriminator(fake_images)\n",
    "        g_loss = criterion(outputs, real_labels)  \n",
    "        \n",
    "\n",
    "\n",
    "        g_loss.backward()\n",
    "        g_optimizer.step()\n",
    "\n",
    "        if (i+1) % 300 == 0:\n",
    "            print(f'Epoch [{epoch+1}/{num_epochs}], Step [{i+1}/{total_step}], '\n",
    "                  f'Discriminator Loss: {d_loss.item():.4f}, '\n",
    "                  f'Generator Loss: {g_loss.item():.4f}')"
   ]
  },
  {
   "cell_type": "markdown",
   "metadata": {
    "id": "q3CGaQzDDRg8"
   },
   "source": [
    "### Q1.6 Plotting the results (5 points)\n",
    "The **seventh and final task** for this question is to try the trained generator. Generate 4 random vectors, apply the generator on them, and plot the resulting image in a single 2 by 2 plot."
   ]
  },
  {
   "cell_type": "code",
   "execution_count": 26,
   "metadata": {
    "id": "lvUJnaqSJCPM"
   },
   "outputs": [
    {
     "data": {
      "image/png": "[encoded data removed]",
      "text/plain": [
       "<Figure size 800x800 with 4 Axes>"
      ]
     },
     "metadata": {},
     "output_type": "display_data"
    }
   ],
   "source": [
    "import numpy as np\n",
    "with torch.no_grad():\n",
    "# Your code here\n",
    "    num_images = 4\n",
    "    noise = torch.randn(num_images, n_dim, device=device)\n",
    "    generated_images = generator(noise).detach().cpu()\n",
    "    fig, axs = plt.subplots(2, 2, figsize=(8, 8))\n",
    "    for i, ax in enumerate(axs.flat):\n",
    "        img = generated_images[i].view(28, 28) \n",
    "        ax.imshow(img, cmap='gray')\n",
    "        ax.axis('off')\n",
    "    \n",
    "    plt.tight_layout()\n",
    "    plt.show()"
   ]
  },
  {
   "cell_type": "markdown",
   "metadata": {
    "id": "ifoL2LfccMKA"
   },
   "source": [
    "## Question 2 - Transformers (65 points)\n",
    "In this question we will be implementing a transformer architecture and apply it on a simple artificially generated dataset."
   ]
  },
  {
   "cell_type": "markdown",
   "metadata": {
    "id": "qtZX21CEcu6p"
   },
   "source": [
    "### Q2.1 Multi-Head Attention (9 points)\n",
    "\n",
    "The attention layer works on batches of training data where each training data itself is a sequence of words/token with length at most ```seq_length``` and each word is embedded into a ```d_embedding``` dimensional vector, e.g., later when we run the transformer on the artificial dataset, the inputs to the transformer and attention layer have shapes of ```[batch_size,seq_length,d_embedding]```. Recall from the lecture that a multi-head attention layer consists of ```n_heads``` self-attention heads. The input matrices Query Q, Key K, and Value V to multi-attention head are passed through linear layers $W_Q$, $W_K$, and $W_V$ which are trainable parameters. The multi-head attention will divide the embedding vector of the input into ```n_heads``` vector of size ```d_k``` and use each as an attention head. This is particularly done by the ```make_heads``` function which transforms the input to an output of shape ```[batch_size, n_heads, seq_length, d_k]```. The multi-head attention then computes the probabilities using the input values, which is implemented by the ```compute_attention_probs``` function. It then joins them using the ```join_heads``` function and finally passes them through an output linear layer $W_O$. The **first task** is to implement the ```forward``` function of Multi-Head attention using the functions already implemented."
   ]
  },
  {
   "cell_type": "code",
   "execution_count": 12,
   "metadata": {
    "id": "pE_j8e5u4aLv"
   },
   "outputs": [],
   "source": [
    "import torch\n",
    "import torch.nn as nn\n",
    "import torch.optim as optim\n",
    "import torch.utils.data as data\n",
    "import math\n",
    "import copy\n",
    "\n",
    "class MultiHeadAttention(nn.Module):\n",
    "    def __init__(self, d_embedding, n_heads):\n",
    "        super(MultiHeadAttention, self).__init__()\n",
    "        assert d_embedding % n_heads == 0\n",
    "\n",
    "        self.d_embedding = d_embedding\n",
    "        self.n_heads = n_heads\n",
    "        self.d_k = d_embedding // n_heads\n",
    "\n",
    "        self.W_q = nn.Linear(d_embedding, d_embedding)\n",
    "        self.W_k = nn.Linear(d_embedding, d_embedding)\n",
    "        self.W_v = nn.Linear(d_embedding, d_embedding)\n",
    "        self.W_o = nn.Linear(d_embedding, d_embedding)\n",
    "\n",
    "    def compute_attention_probs(self, Q, K, V, mask=None):\n",
    "        attn_scores = torch.matmul(Q, K.transpose(-2, -1)) / math.sqrt(self.d_k)\n",
    "        if mask is not None:\n",
    "            attn_scores = attn_scores.masked_fill(mask == 0, -1e9)\n",
    "        attn_probs = torch.softmax(attn_scores, dim=-1)\n",
    "        output = torch.matmul(attn_probs, V)\n",
    "        return output\n",
    "\n",
    "\n",
    "    def make_heads(self, x):\n",
    "        batch_size, seq_length, d_embedding = x.size()\n",
    "        y=x.view(batch_size, seq_length, self.n_heads, self.d_k).transpose(1, 2)\n",
    "        return x.view(batch_size, seq_length, self.n_heads, self.d_k).transpose(1, 2)\n",
    "\n",
    "    def join_heads(self, x):\n",
    "        batch_size, _, seq_length, d_k = x.size()\n",
    "        return x.transpose(1, 2).contiguous().view(batch_size, seq_length, self.d_embedding)\n",
    "\n",
    "    def forward(self, Q, K, V, mask=None):\n",
    "       #ToDo: Complete code\n",
    "\n",
    "        Q = self.W_q(Q)\n",
    "        K = self.W_k(K)\n",
    "        V = self.W_v(V)\n",
    "    \n",
    "        # Reshape and transpose for multi-head attention\n",
    "        Q = self.make_heads(Q)\n",
    "        K = self.make_heads(K)\n",
    "        V = self.make_heads(V)\n",
    "\n",
    "        attended_values = self.compute_attention_probs(Q, K, V, mask)\n",
    "        \n",
    "        # Join the heads back together\n",
    "        attended_values = self.join_heads(attended_values)\n",
    "    \n",
    "        # Apply the final linear transformation\n",
    "        output = self.W_o(attended_values)\n",
    "    \n",
    "        return output\n",
    "        \n",
    "\n"
   ]
  },
  {
   "cell_type": "markdown",
   "metadata": {
    "id": "nT0KE6fB6497"
   },
   "source": [
    "### Q2.2 Feed-forward layer (2 points)\n",
    "The output of the multi-head attention layer is used as an input to the feed-forward layer in the encoder. This layer is implemented in the following class. The **second task** is to complete the ```forward``` function of this class."
   ]
  },
  {
   "cell_type": "code",
   "execution_count": 13,
   "metadata": {
    "id": "InGgN9XN7muD"
   },
   "outputs": [],
   "source": [
    "class FeedForward(nn.Module):\n",
    "    def __init__(self, d_embedding, d_ff):\n",
    "        super(FeedForward, self).__init__()\n",
    "        self.fc1 = nn.Linear(d_embedding, d_ff)\n",
    "        self.fc2 = nn.Linear(d_ff, d_embedding)\n",
    "        self.relu = nn.ReLU()\n",
    "\n",
    "    def forward(self, x):\n",
    "        #ToDO: Complete code\n",
    "        return self.fc2(self.relu(self.fc1(x)))\n"
   ]
  },
  {
   "cell_type": "markdown",
   "metadata": {
    "id": "uaZ1PCFJ9DXf"
   },
   "source": [
    "### Q2.3 Encoder Block (9 points)\n",
    "\n",
    "We now have all the necessary classes to build the Encoder block. The encoder block gets as input a batch of data. It first passes the input through the multi-attention layer. It then applies 1) a droput layer, 2) adds the input to the output of droupout layer as a residual, 3) applies a layer normalization, 4) and passes the output to the feed-forward layer. Finally, it applies 1) a droput layer, 2) adds the input to the output of droupout layer as a residual, and 3) Applies a layer normalization. The **third task** is to complete the ```forward``` function of this class."
   ]
  },
  {
   "cell_type": "code",
   "execution_count": 14,
   "metadata": {
    "id": "s0MnjetG_Zum"
   },
   "outputs": [],
   "source": [
    "class EncoderBlock(nn.Module):\n",
    "    def __init__(self, d_embedding, n_heads, d_ff, dropout):\n",
    "        super(EncoderBlock, self).__init__()\n",
    "        self.self_attention = MultiHeadAttention(d_embedding, n_heads)\n",
    "        self.feed_forward = FeedForward(d_embedding, d_ff)\n",
    "        self.norm1 = nn.LayerNorm(d_embedding)\n",
    "        self.norm2 = nn.LayerNorm(d_embedding)\n",
    "        self.dropout = nn.Dropout(dropout)\n",
    "\n",
    "    def forward(self, x, mask):\n",
    "        #ToDo: Complete code\n",
    "        \"\"\"\n",
    "        Returns: The output of encoder on a given input batch x\n",
    "        \"\"\"\n",
    "        attention_output = self.self_attention(x, x, x, mask)\n",
    "\n",
    "        # Apply dropout to the output of the attention layer\n",
    "        dropout_output = self.dropout(attention_output)\n",
    "    \n",
    "        # Add the input to the output of the dropout layer as a residual connection\n",
    "        x = x + dropout_output\n",
    "    \n",
    "        # Apply layer normalization\n",
    "        x = self.norm1(x)\n",
    "    \n",
    "        # Pass the output to the feed-forward layer\n",
    "        feed_forward_output = self.feed_forward(x)\n",
    "    \n",
    "        # Apply dropout to the output of the feed-forward layer\n",
    "        feed_forward_dropout_output = self.dropout(feed_forward_output)\n",
    "    \n",
    "        # Add the input to the output of the dropout layer as a residual connection\n",
    "        x = x + feed_forward_dropout_output\n",
    "    \n",
    "        # Apply layer normalization\n",
    "        x = self.norm2(x)\n",
    "    \n",
    "        return x"
   ]
  },
  {
   "cell_type": "markdown",
   "metadata": {
    "id": "jru9E9dZ_aKv"
   },
   "source": [
    "### Q2.4 Decoder Block (20 points)\n",
    "\n",
    "In this part we will build the decoder block. The **fourth task** is to implement the DecoderBlock. You can refer to the lecture notes to find the architecture of the decoder block including the multi-attention layers, add and norm layers, and the feedforward layer. You can also add a *dropout* layer to the final add and norm layer.\n"
   ]
  },
  {
   "cell_type": "code",
   "execution_count": 15,
   "metadata": {
    "id": "HCX_D3xoFYJo"
   },
   "outputs": [],
   "source": [
    "class DecoderBlock(nn.Module):\n",
    "    def __init__(self, d_embedding, n_heads, d_ff, dropout):\n",
    "        super(DecoderBlock, self).__init__()\n",
    "        \"\"\"\n",
    "        Args:\n",
    "           self_attention: decoder's multi-head attention\n",
    "           cross_attention: The multi-head attention layer between the encoder and the decoder\n",
    "           feed_forward: feed-forward layer\n",
    "           mask: mask to be given for multi head attention\n",
    "           norm1: First Normalization layer\n",
    "           norm2: Second Normalization layer\n",
    "           norm3: Third Normalization layer\n",
    "           dropout: Final dropout layer\n",
    "        \"\"\"\n",
    "        self.self_attention = MultiHeadAttention(d_embedding, n_heads)\n",
    "        self.cross_attention = MultiHeadAttention(d_embedding, n_heads)\n",
    "        self.feed_forward = FeedForward(d_embedding, d_ff)\n",
    "        self.norm1 = nn.LayerNorm(d_embedding)\n",
    "        self.norm2 = nn.LayerNorm(d_embedding)\n",
    "        self.norm3 = nn.LayerNorm(d_embedding)\n",
    "        self.dropout = nn.Dropout(dropout)\n",
    "\n",
    "        \n",
    "\n",
    "\n",
    "    def forward(self, x, enc_output, src_mask, tgt_mask):\n",
    "        \"\"\"\n",
    "        Returns: The output of decoder on a given input batch x\n",
    "        \"\"\"\n",
    "\n",
    "        self_attention_output = self.self_attention(x, x, x, tgt_mask)\n",
    "        \n",
    "        # Apply dropout to the output of the attention layer\n",
    "        self_attention_dropout_output = self.dropout(self_attention_output)\n",
    "\n",
    "        # residual connection then layer normalization\n",
    "        x = self.norm1(x + self_attention_dropout_output)\n",
    "\n",
    "        cross_attention_output = self.cross_attention(x, enc_output, enc_output, src_mask)\n",
    "\n",
    "        # Apply dropout to the output of the attention layer\n",
    "        cross_attention_dropout_output = self.dropout(cross_attention_output)\n",
    "\n",
    "        # residual connection then layer normalization\n",
    "        x = self.norm2(x + cross_attention_dropout_output)\n",
    "\n",
    "        feed_forward_output = self.feed_forward(x)\n",
    "        feed_forward_dropout_output = self.dropout(feed_forward_output)\n",
    "        x = self.norm3(x + feed_forward_dropout_output)\n",
    "\n",
    "        return x\n",
    "        \n",
    "        \n"
   ]
  },
  {
   "cell_type": "markdown",
   "metadata": {
    "id": "UyH9ROxRI252"
   },
   "source": [
    "### Q2.5 Transformer Block (20 points)\n",
    "\n",
    "Finally, we use the classes defined for EncoderBlock and DecoderBlock to build the TransformerBlock. The **fifth task** is to complete the ```forward``` function of this class. Note that ```num_layers``` indicates the number of encoder and decoder layers in the transformer. You can refer to the final architecture of the Transformer from the lectures. You can also include a dropout layer after embedding the source and target inputs. Remember to apply positional encoding to the input batch before passing it to the transformer."
   ]
  },
  {
   "cell_type": "code",
   "execution_count": 19,
   "metadata": {
    "id": "2Sz2JAuwmnNn"
   },
   "outputs": [],
   "source": [
    "class PositionalEncoding(nn.Module):\n",
    "    def __init__(self, d_embedding, max_seq_length):\n",
    "        super(PositionalEncoding, self).__init__()\n",
    "\n",
    "        pe = torch.zeros(max_seq_length, d_embedding)\n",
    "        position = torch.arange(0, max_seq_length, dtype=torch.float).unsqueeze(1)\n",
    "        div_term = torch.exp(torch.arange(0, d_embedding, 2).float() * -(math.log(10000.0) / d_embedding))\n",
    "\n",
    "        pe[:, 0::2] = torch.sin(position * div_term)\n",
    "        pe[:, 1::2] = torch.cos(position * div_term)\n",
    "\n",
    "        self.register_buffer('pe', pe.unsqueeze(0))\n",
    "\n",
    "    def forward(self, x):\n",
    "        return x + self.pe[:, :x.size(1)]\n",
    "\n",
    "class Transformer(nn.Module):\n",
    "    def __init__(self, src_vocab_size, tgt_vocab_size, d_embedding, n_heads, num_layers, d_ff, max_seq_length, dropout):\n",
    "        super(Transformer, self).__init__()\n",
    "        self.encoder_embedding = nn.Embedding(src_vocab_size, d_embedding)\n",
    "        self.decoder_embedding = nn.Embedding(tgt_vocab_size, d_embedding)\n",
    "        self.positional_encoding = PositionalEncoding(d_embedding, max_seq_length)\n",
    "\n",
    "        self.encoder_layers = nn.ModuleList([EncoderBlock(d_embedding, n_heads, d_ff, dropout) for _ in range(num_layers)])\n",
    "        self.decoder_layers = nn.ModuleList([DecoderBlock(d_embedding, n_heads, d_ff, dropout) for _ in range(num_layers)])\n",
    "\n",
    "        self.fc = nn.Linear(d_embedding, tgt_vocab_size)\n",
    "        self.dropout = nn.Dropout(dropout)\n",
    "\n",
    "    # Masking the input; the outputs returned by this function should be passed to encoder and decoder layers\n",
    "    # def generate_mask(self, src, tgt):\n",
    "    #     src_mask = (src != 0).unsqueeze(1).unsqueeze(2)\n",
    "    #     tgt_mask = (tgt != 0).unsqueeze(1).unsqueeze(3)\n",
    "    #     seq_length = tgt.size(1)\n",
    "    #     nopeak_mask = (1 - torch.triu(torch.ones(1, seq_length, seq_length), diagonal=1)).bool()\n",
    "    #     tgt_mask = tgt_mask & nopeak_mask\n",
    "    #     return src_mask, tgt_mask\n",
    "\n",
    "    #modify to put mask on device\n",
    "    def generate_mask(self, src, tgt):\n",
    "        device = src.device  # Assuming src and tgt are already on the target device\n",
    "        src_mask = (src != 0).unsqueeze(1).unsqueeze(2)\n",
    "        tgt_mask = (tgt != 0).unsqueeze(1).unsqueeze(3)\n",
    "        seq_length = tgt.size(1)\n",
    "        nopeak_mask = (1 - torch.triu(torch.ones(1, seq_length, seq_length, device=device), diagonal=1)).bool()\n",
    "        tgt_mask = tgt_mask & nopeak_mask\n",
    "        return src_mask, tgt_mask\n",
    "\n",
    "    def forward(self, src, tgt):\n",
    "        #ToDo: complete the code\n",
    "        src_mask, tgt_mask = self.generate_mask(src, tgt)\n",
    "        \"\"\"\n",
    "        Returns: The output of transformer on a given input batch x\n",
    "        \"\"\"\n",
    "        # Pass source sequence through the embedding layer, add positional encoding, and apply dropout\n",
    "        src = self.encoder_embedding(src) \n",
    "        src = self.positional_encoding(src)\n",
    "        src = self.dropout(src)\n",
    "        \n",
    "        # Pass target sequence through the embedding layer, add positional encoding, and apply dropout\n",
    "        tgt = self.decoder_embedding(tgt) \n",
    "        tgt = self.positional_encoding(tgt)\n",
    "        tgt = self.dropout(tgt)\n",
    "        \n",
    "        # Pass the embedded and encoded source sequence through the encoder stack\n",
    "        for encoder in self.encoder_layers:\n",
    "            src = encoder(src, src_mask)\n",
    "            \n",
    "        # Pass the embedded and encoded target sequence through the decoder stack, using encoder output as context\n",
    "        for decoder in self.decoder_layers:\n",
    "            tgt = decoder(tgt, src, src_mask, tgt_mask)\n",
    "            \n",
    "        # Pass the output of the last decoder layer through a linear layer to get logits for each token in the target vocabulary\n",
    "        output = self.fc(tgt) \n",
    "        \n",
    "        return output\n"
   ]
  },
  {
   "cell_type": "markdown",
   "metadata": {
    "id": "dGtuTlqWms4B"
   },
   "source": [
    "### Q2.6 Training (5 points)\n",
    "We can now train the model on an imaginary randomly generated dataset. The **sixth task** is to complete the training code and plot the training loss."
   ]
  },
  {
   "cell_type": "code",
   "execution_count": 24,
   "metadata": {
    "id": "94xoG6QF5gnv"
   },
   "outputs": [
    {
     "name": "stdout",
     "output_type": "stream",
     "text": [
      "Epoch 1/25, Loss: 8.6891\n",
      "Epoch 2/25, Loss: 8.5499\n",
      "Epoch 3/25, Loss: 8.4808\n",
      "Epoch 4/25, Loss: 8.4297\n",
      "Epoch 5/25, Loss: 8.3774\n",
      "Epoch 6/25, Loss: 8.3109\n",
      "Epoch 7/25, Loss: 8.2331\n",
      "Epoch 8/25, Loss: 8.1491\n",
      "Epoch 9/25, Loss: 8.0719\n",
      "Epoch 10/25, Loss: 7.9941\n",
      "Epoch 11/25, Loss: 7.9097\n",
      "Epoch 12/25, Loss: 7.8372\n",
      "Epoch 13/25, Loss: 7.7415\n",
      "Epoch 14/25, Loss: 7.6584\n",
      "Epoch 15/25, Loss: 7.5805\n",
      "Epoch 16/25, Loss: 7.4942\n",
      "Epoch 17/25, Loss: 7.4193\n",
      "Epoch 18/25, Loss: 7.3410\n",
      "Epoch 19/25, Loss: 7.2542\n",
      "Epoch 20/25, Loss: 7.1703\n",
      "Epoch 21/25, Loss: 7.0931\n",
      "Epoch 22/25, Loss: 7.0105\n",
      "Epoch 23/25, Loss: 6.9419\n",
      "Epoch 24/25, Loss: 6.8656\n",
      "Epoch 25/25, Loss: 6.7927\n"
     ]
    },
    {
     "data": {
      "image/png": "[encoded data removed]",
      "text/plain": [
       "<Figure size 1000x600 with 1 Axes>"
      ]
     },
     "metadata": {},
     "output_type": "display_data"
    }
   ],
   "source": [
    "src_vocab_size = 5000\n",
    "tgt_vocab_size = 5000\n",
    "d_embedding = 512\n",
    "n_heads = 8\n",
    "num_layers = 6\n",
    "d_ff = 2048\n",
    "max_seq_length = 100\n",
    "dropout = 0.1\n",
    "\n",
    "# transformer = Transformer(src_vocab_size, tgt_vocab_size, d_embedding, n_heads, num_layers, d_ff, max_seq_length, dropout)\n",
    "#put model to device\n",
    "transformer = Transformer(src_vocab_size, tgt_vocab_size, d_embedding, n_heads, num_layers, d_ff, max_seq_length, dropout).to(device)\n",
    "\n",
    "# Generate random sample data\n",
    "src_data = torch.randint(1, src_vocab_size, (64, max_seq_length))\n",
    "tgt_data = torch.randint(1, tgt_vocab_size, (64, max_seq_length))\n",
    "\n",
    "criterion = nn.CrossEntropyLoss(ignore_index=0)\n",
    "optimizer = optim.Adam(transformer.parameters(), lr=0.0001, betas=(0.9, 0.98), eps=1e-9)\n",
    "\n",
    "transformer.train()\n",
    "\n",
    "# for epoch in range(25):\n",
    "#    #ToDo: complete the code\n",
    "\n",
    "num_epochs = 25\n",
    "batch_size = 64  \n",
    "\n",
    "# Tracking loss for plotting\n",
    "losses = []\n",
    "\n",
    "for epoch in range(num_epochs):\n",
    "    epoch_loss = 0.0\n",
    "    for i in range(0, src_data.size(0), batch_size):\n",
    "        # src_batch = src_data[i:i+batch_size]\n",
    "        # tgt_batch = tgt_data[i:i+batch_size]\n",
    "        \n",
    "        #put data to device\n",
    "        src_batch = src_data[i:i+batch_size].to(device)\n",
    "        tgt_batch = tgt_data[i:i+batch_size].to(device)\n",
    "        \n",
    "        # Shift the targets for tgt_input & tgt_output\n",
    "        tgt_input = tgt_batch[:, :-1]\n",
    "        tgt_output = tgt_batch[:, 1:]\n",
    "        \n",
    "        # Reset gradients\n",
    "        optimizer.zero_grad()\n",
    "        \n",
    "        # Forward pass through the model\n",
    "        output = transformer(src_batch, tgt_input)\n",
    "        \n",
    "        # Reshape output and targets to fit the loss function\n",
    "        output_dim = output.shape[-1]\n",
    "        output = output.contiguous().view(-1, output_dim)\n",
    "        tgt_output = tgt_output.contiguous().view(-1)\n",
    "        \n",
    "        # Compute loss\n",
    "        loss = criterion(output, tgt_output)\n",
    "        epoch_loss += loss.item()\n",
    "        \n",
    "        # Backpropagation\n",
    "        loss.backward()\n",
    "        \n",
    "        # Update model parameters\n",
    "        optimizer.step()\n",
    "    \n",
    "    epoch_loss /= (src_data.size(0) // batch_size)\n",
    "    losses.append(epoch_loss)\n",
    "    print(f'Epoch {epoch+1}/{num_epochs}, Loss: {epoch_loss:.4f}')\n",
    "\n",
    "# Plotting training loss\n",
    "plt.figure(figsize=(10, 6))\n",
    "plt.plot(range(1, num_epochs + 1), losses, label='Training Loss')\n",
    "plt.xlabel('Epoch')\n",
    "plt.ylabel('Loss')\n",
    "plt.title('Training Loss Across Epochs')\n",
    "plt.legend()\n",
    "plt.show()\n"
   ]
  }
 ],
 "metadata": {
  "colab": {
   "provenance": [],
   "toc_visible": true
  },
  "kernelspec": {
   "display_name": "Python 3 (ipykernel)",
   "language": "python",
   "name": "python3"
  },
  "language_info": {
   "codemirror_mode": {
    "name": "ipython",
    "version": 3
   },
   "file_extension": ".py",
   "mimetype": "text/x-python",
   "name": "python",
   "nbconvert_exporter": "python",
   "pygments_lexer": "ipython3",
   "version": "3.11.3"
  }
 },
 "nbformat": 4,
 "nbformat_minor": 4
}
